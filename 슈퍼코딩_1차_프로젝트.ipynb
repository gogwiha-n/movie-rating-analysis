{
  "nbformat": 4,
  "nbformat_minor": 0,
  "metadata": {
    "colab": {
      "provenance": [],
      "authorship_tag": "ABX9TyN5Dp3avcoIVS24k6Jl66JL",
      "include_colab_link": true
    },
    "kernelspec": {
      "name": "python3",
      "display_name": "Python 3"
    },
    "language_info": {
      "name": "python"
    }
  },
  "cells": [
    {
      "cell_type": "markdown",
      "metadata": {
        "id": "view-in-github",
        "colab_type": "text"
      },
      "source": [
        "<a href=\"https://colab.research.google.com/github/gogwiha-n/movie-rating-analysis/blob/main/%EC%8A%88%ED%8D%BC%EC%BD%94%EB%94%A9_1%EC%B0%A8_%ED%94%84%EB%A1%9C%EC%A0%9D%ED%8A%B8.ipynb\" target=\"_parent\"><img src=\"https://colab.research.google.com/assets/colab-badge.svg\" alt=\"Open In Colab\"/></a>"
      ]
    },
    {
      "cell_type": "code",
      "execution_count": 12,
      "metadata": {
        "colab": {
          "base_uri": "https://localhost:8080/"
        },
        "id": "cyhsP63mlCeX",
        "outputId": "a91f00e8-d170-4fa7-a07a-9dcc12db0a56"
      },
      "outputs": [
        {
          "output_type": "stream",
          "name": "stdout",
          "text": [
            "Mounted at /content/drive\n"
          ]
        }
      ],
      "source": [
        "from google.colab import drive\n",
        "drive.mount('/content/drive')"
      ]
    },
    {
      "cell_type": "code",
      "source": [
        "import numpy as np\n",
        "import csv"
      ],
      "metadata": {
        "id": "HO6eohEHlVSv"
      },
      "execution_count": 20,
      "outputs": []
    },
    {
      "cell_type": "code",
      "source": [
        "movie_path = \"IMDB_top_1000.csv\""
      ],
      "metadata": {
        "id": "SpZh9l0ulaxd"
      },
      "execution_count": 19,
      "outputs": []
    },
    {
      "cell_type": "code",
      "source": [
        "import os\n",
        "\n",
        "cwd = os.getcwd()\n",
        "print(cwd)"
      ],
      "metadata": {
        "colab": {
          "base_uri": "https://localhost:8080/"
        },
        "id": "D-UAI-NQoS2P",
        "outputId": "cc701dfd-d55a-4156-c164-45e2fcc05001"
      },
      "execution_count": 21,
      "outputs": [
        {
          "output_type": "stream",
          "name": "stdout",
          "text": [
            "/content\n"
          ]
        }
      ]
    },
    {
      "cell_type": "code",
      "source": [
        "data_list = []\n",
        "with open(movie_path, \"r\", encoding=\"utf-8\") as f:\n",
        "  reader = csv.reader(f)\n",
        "  header = next(reader)\n",
        "  for row in reader:\n",
        "    data_list.append(row)\n",
        "\n",
        "data_array = np.array(data_list)\n",
        "\n",
        "title_idx = header.index(\"Title\")\n",
        "geare_idx = header.index(\"Genre\")\n",
        "rate_idx = header.index(\"Rate\")\n",
        "\n",
        "selected_data = data_array[:, [title_idx, geare_idx, rate_idx]]\n",
        "\n",
        "filtered_data = selected_data[~np.any(selected_data == '', axis=1)]\n",
        "\n",
        "print(\"[Numpy 배열 형태의 데이터 샘플]\")\n",
        "print(filtered_data)\n",
        "\n",
        "print(\"데이터 크기 : \", filtered_data.shape)"
      ],
      "metadata": {
        "colab": {
          "base_uri": "https://localhost:8080/"
        },
        "id": "kuDkyPAnlhtI",
        "outputId": "9a912d2f-0018-4588-b82f-37a57838003b"
      },
      "execution_count": 23,
      "outputs": [
        {
          "output_type": "stream",
          "name": "stdout",
          "text": [
            "[Numpy 배열 형태의 데이터 샘플]\n",
            "[['1. The Shawshank Redemption (1994)' 'Drama' '9.3']\n",
            " ['2. The Godfather (1972)' 'Crime, Drama' '9.2']\n",
            " ['3. The Dark Knight (2008)' 'Action, Crime, Drama' '9.0']\n",
            " ...\n",
            " ['400. JFK (1991)' 'Drama, History, Thriller' '8.0']\n",
            " ['301. Nights of Cabiria (1957)' 'Drama' '8.1']\n",
            " ['302. Throne of Blood (1957)' 'Drama, History' '8.1']]\n",
            "데이터 크기 :  (1000, 3)\n"
          ]
        }
      ]
    },
    {
      "cell_type": "code",
      "source": [
        "#2\n",
        "#데이터에서 최고 평점(최대값)을 찾으세요.\n",
        "#해당 평점을 받은 영화 목록을 출력하세요.\n",
        "\n",
        "#- 📌 출력 예시\n",
        "#⭐ 최고 평점 영화 목록:\n",
        "#The Shawshank Redemption (1994) - 평점: 9.3\n",
        "\n",
        "평점column=filtered_data[:,2].astype(float)\n",
        "제목column=filtered_data[:,0].astype(str)\n",
        "최고평점=max(평점column)\n",
        "정답 = 제목column[최고평점==평점column]\n",
        "\n",
        "print(\"⭐ 최고 평점 영화 목록:\")\n",
        "\n",
        "for x in 정답:\n",
        "  y=x.split('. ',1)[1]\n",
        "  print(y, \"- 평점:\", 최고평점)"
      ],
      "metadata": {
        "colab": {
          "base_uri": "https://localhost:8080/"
        },
        "id": "DpFvdue-D9io",
        "outputId": "2b6f3f50-276e-4fec-97a9-8f29b062e4bf"
      },
      "execution_count": 106,
      "outputs": [
        {
          "output_type": "stream",
          "name": "stdout",
          "text": [
            "⭐ 최고 평점 영화 목록:\n",
            "The Shawshank Redemption (1994) - 평점: 9.3\n"
          ]
        }
      ]
    }
  ]
}